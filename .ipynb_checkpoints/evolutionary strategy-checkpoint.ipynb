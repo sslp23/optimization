{
 "cells": [
  {
   "cell_type": "code",
   "execution_count": 1,
   "id": "aerial-witness",
   "metadata": {},
   "outputs": [],
   "source": [
    "import numpy as np\n",
    "from functions import ackley, rastrigin, schwefel, rosenbrock, levy\n",
    "import time"
   ]
  },
  {
   "cell_type": "code",
   "execution_count": 2,
   "id": "korean-disability",
   "metadata": {},
   "outputs": [],
   "source": [
    "ACKLEY_MIN_BOUND = -32\n",
    "ACKLEY_MAX_BOUND = 32\n",
    "\n",
    "RASTRIGIN_MIN_BOUND = -5\n",
    "RASTRIGIN_MAX_BOUND = 5\n",
    "\n",
    "SCHWEFEL_MIN_BOUND = -420\n",
    "SCHWEFEL_MAX_BOUND = 420\n",
    "\n",
    "ROSENBROCK_MIN_BOUND = -2\n",
    "ROSENBROCK_MAX_BOUND = 2\n",
    "\n",
    "LEVY_MIN_BOUND = -10\n",
    "LEVY_MAX_BOUND = 10"
   ]
  },
  {
   "cell_type": "code",
   "execution_count": 3,
   "id": "bottom-orlando",
   "metadata": {},
   "outputs": [],
   "source": [
    "MIN_BOUND = SCHWEFEL_MIN_BOUND\n",
    "MAX_BOUND = SCHWEFEL_MAX_BOUND"
   ]
  },
  {
   "cell_type": "code",
   "execution_count": 4,
   "id": "korean-restriction",
   "metadata": {},
   "outputs": [],
   "source": [
    "#lamb -> pop size\n",
    "#mu -> children\n",
    "#dim -> size of array input\n",
    "def es(max_iter, step, dim, mu, lamb, func):\n",
    "    best, best_val = None, float(\"inf\")\n",
    "    children = int(lamb/mu)\n",
    "    \n",
    "    pop = []\n",
    "    \n",
    "    for i in range(lamb):\n",
    "        ind = np.random.uniform(-1,1, size=(dim,)) * ((MAX_BOUND - MIN_BOUND) + MIN_BOUND)\n",
    "        \n",
    "        pop.append(ind)\n",
    "    \n",
    "    for i in range(max_iter):\n",
    "        scores = [func(X) for X in pop]\n",
    "        \n",
    "        rank = np.argsort(np.argsort(scores)) \n",
    "        \n",
    "        indexes = [i for i, j in enumerate(rank) if rank[i] < mu] #select top mu scores\n",
    "        \n",
    "        offspring = []\n",
    "        \n",
    "        for i in indexes:\n",
    "            if scores[i] < best_val:\n",
    "                best, best_val = pop[i], scores[i]\n",
    "                \n",
    "            for i in range(children):\n",
    "                random_factor = np.random.uniform(-1,1, size=(dim,)) * ((MAX_BOUND - MIN_BOUND) + MIN_BOUND)\n",
    "                child = pop[i] + random_factor*step\n",
    "                offspring.append(child)\n",
    "            \n",
    "        pop = offspring\n",
    "    return best, best_val"
   ]
  },
  {
   "cell_type": "code",
   "execution_count": 5,
   "id": "widespread-prototype",
   "metadata": {},
   "outputs": [],
   "source": [
    "start = time.time()\n",
    "arr, val = es(max_iter=100, step=0.1, dim=30, mu=20, lamb=100, func=schwefel)\n",
    "end = time.time()\n",
    "time_took = end-start\n",
    "\n"
   ]
  },
  {
   "cell_type": "code",
   "execution_count": 6,
   "id": "mighty-thompson",
   "metadata": {},
   "outputs": [
    {
     "name": "stdout",
     "output_type": "stream",
     "text": [
      "\n",
      "value found with ES = 3414.30 time took with ES = 0.55 s\n"
     ]
    }
   ],
   "source": [
    "print(\"\\nvalue found with ES = %.2f time took with ES = %.2f s\"%(val, time_took))"
   ]
  },
  {
   "cell_type": "code",
   "execution_count": null,
   "id": "public-retention",
   "metadata": {},
   "outputs": [],
   "source": []
  },
  {
   "cell_type": "code",
   "execution_count": null,
   "id": "sharing-davis",
   "metadata": {},
   "outputs": [],
   "source": []
  }
 ],
 "metadata": {
  "kernelspec": {
   "display_name": "Python 3",
   "language": "python",
   "name": "python3"
  },
  "language_info": {
   "codemirror_mode": {
    "name": "ipython",
    "version": 3
   },
   "file_extension": ".py",
   "mimetype": "text/x-python",
   "name": "python",
   "nbconvert_exporter": "python",
   "pygments_lexer": "ipython3",
   "version": "3.7.6"
  }
 },
 "nbformat": 4,
 "nbformat_minor": 5
}
