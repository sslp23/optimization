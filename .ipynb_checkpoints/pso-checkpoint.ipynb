{
 "cells": [
  {
   "cell_type": "code",
   "execution_count": 1,
   "id": "naked-execution",
   "metadata": {},
   "outputs": [],
   "source": [
    "import numpy as np\n",
    "from functions import ackley, rastrigin, schwefel, rosenbrock, levy"
   ]
  },
  {
   "cell_type": "code",
   "execution_count": 2,
   "id": "needed-asian",
   "metadata": {},
   "outputs": [],
   "source": [
    "import time"
   ]
  },
  {
   "cell_type": "code",
   "execution_count": 3,
   "id": "clean-baptist",
   "metadata": {},
   "outputs": [],
   "source": [
    "ACKLEY_MIN_BOUND = -32\n",
    "ACKLEY_MAX_BOUND = 32\n",
    "\n",
    "RASTRIGIN_MIN_BOUND = -5\n",
    "RASTRIGIN_MAX_BOUND = 5\n",
    "\n",
    "SCHWEFEL_MIN_BOUND = -420\n",
    "SCHWEFEL_MAX_BOUND = 420\n",
    "\n",
    "ROSENBROCK_MIN_BOUND = -2\n",
    "ROSENBROCK_MAX_BOUND = 2\n",
    "\n",
    "LEVY_MIN_BOUND = -10\n",
    "LEVY_MAX_BOUND = 10"
   ]
  },
  {
   "cell_type": "code",
   "execution_count": 4,
   "id": "affected-malaysia",
   "metadata": {},
   "outputs": [],
   "source": [
    "MIN_BOUND = ROSENBROCK_MIN_BOUND\n",
    "MAX_BOUND = ROSENBROCK_MAX_BOUND"
   ]
  },
  {
   "cell_type": "code",
   "execution_count": 5,
   "id": "through-specialist",
   "metadata": {},
   "outputs": [],
   "source": [
    "class Particle:\n",
    "    def __init__(self, dim, func):\n",
    "        self.dim = dim\n",
    "        self.func = func\n",
    "        self.X = np.random.uniform(-1,1, size=(dim,)) * ((MAX_BOUND - MIN_BOUND) + MIN_BOUND)\n",
    "        self.V = np.random.uniform(-1,1, size=(dim,)) * ((MAX_BOUND - MIN_BOUND) + MIN_BOUND)\n",
    "        self.pbest = self.X\n",
    "        self.pbest_val = self.func(self.X)\n",
    "        \n",
    "        \n",
    "    def new_V(self, w, c1, c2, gbest):\n",
    "        for d in range(self.dim):\n",
    "            r1 = np.random.rand() \n",
    "            r2 = np.random.rand()\n",
    "            position = w*self.V[d] + c1*r1*(self.pbest[d]-self.X[d]) + c2*r2*(gbest[d]-self.X[d])\n",
    "            \n",
    "            self.V[d] = position\n",
    "    \n",
    "    def new_X(self):\n",
    "        self.X += self.V\n",
    "        new_value = self.func(self.X)\n",
    "        if new_value < self.pbest_val:\n",
    "            self.pbest = self.X\n",
    "            self.pbest_val = new_value\n",
    "        \n",
    "        return (self.X, self.pbest_val)"
   ]
  },
  {
   "cell_type": "code",
   "execution_count": 6,
   "id": "thermal-honor",
   "metadata": {},
   "outputs": [],
   "source": [
    "def pso(max_iter, max_particles, dim, w, c1, c2, func):\n",
    "    particles = [Particle(dim, func)] # primeira particula\n",
    "    \n",
    "    gbest = particles[0].pbest\n",
    "    gbest_val = particles[0].pbest_val\n",
    "    \n",
    "    for i in range(max_particles-1): #adicionando as novas particulas\n",
    "        p = Particle(dim, func)\n",
    "        if p.pbest_val < gbest_val:\n",
    "            gbest_val = p.pbest_val\n",
    "            p.pbest = gbest\n",
    "        \n",
    "        particles.append(p)\n",
    "    \n",
    "    for i in range(max_iter):\n",
    "        for p in particles:\n",
    "            p.new_V(w, c1, c2, gbest)\n",
    "            new_X, new_val = p.new_X()\n",
    "\n",
    "            if new_val < gbest_val:\n",
    "                gbest = new_X\n",
    "                gbest_val = new_val\n",
    "    \n",
    "    return gbest, gbest_val"
   ]
  },
  {
   "cell_type": "code",
   "execution_count": 7,
   "id": "informational-immunology",
   "metadata": {},
   "outputs": [],
   "source": [
    "start = time.time()\n",
    "arr, val = pso(max_iter=100, max_particles=1000, dim=30, w=0.8, c1=0.1, c2=0.1, func=rosenbrock)\n",
    "end = time.time()\n",
    "time_took = end-start\n",
    "\n"
   ]
  },
  {
   "cell_type": "code",
   "execution_count": 8,
   "id": "moving-vault",
   "metadata": {},
   "outputs": [
    {
     "name": "stdout",
     "output_type": "stream",
     "text": [
      "\n",
      "value found with PSO = 141.93 time took with PSO = 10.55 s\n"
     ]
    }
   ],
   "source": [
    "print(\"\\nvalue found with PSO = %.2f time took with PSO = %.2f s\"%(val, time_took))"
   ]
  },
  {
   "cell_type": "code",
   "execution_count": null,
   "id": "tender-frost",
   "metadata": {},
   "outputs": [],
   "source": []
  },
  {
   "cell_type": "code",
   "execution_count": null,
   "id": "convinced-humanity",
   "metadata": {},
   "outputs": [],
   "source": []
  },
  {
   "cell_type": "code",
   "execution_count": null,
   "id": "engaging-error",
   "metadata": {},
   "outputs": [],
   "source": []
  },
  {
   "cell_type": "code",
   "execution_count": null,
   "id": "fluid-salon",
   "metadata": {},
   "outputs": [],
   "source": []
  },
  {
   "cell_type": "code",
   "execution_count": null,
   "id": "residential-chancellor",
   "metadata": {},
   "outputs": [],
   "source": []
  }
 ],
 "metadata": {
  "kernelspec": {
   "display_name": "Python 3",
   "language": "python",
   "name": "python3"
  },
  "language_info": {
   "codemirror_mode": {
    "name": "ipython",
    "version": 3
   },
   "file_extension": ".py",
   "mimetype": "text/x-python",
   "name": "python",
   "nbconvert_exporter": "python",
   "pygments_lexer": "ipython3",
   "version": "3.7.6"
  }
 },
 "nbformat": 4,
 "nbformat_minor": 5
}
